{
 "cells": [
  {
   "cell_type": "code",
   "execution_count": 1,
   "metadata": {},
   "outputs": [],
   "source": [
    "# Christopher Figueroa\n",
    "# Aircraft Health LSWM predictor\n",
    "\n",
    "# imports for Yes or No predictor\n",
    "# source: datajungler.com\n",
    "import numpy as np, pandas as pd\n",
    "from sklearn import linear_model\n",
    "from sklearn import preprocessing\n",
    "import matplotlib.pyplot as plt \n",
    "\n",
    "# original intended source of data\n",
    "train_data = pd.read_csv(\"Maintenance.csv\")\n",
    "\n",
    "# everything has been copied in this document from datajungler\n",
    "# the purpose of this program is to test to see if the code works\n",
    "# however it does not work as intended\n",
    "# perhaps there are some other changes needed to accomodate the .csv file\n",
    "# but there is no time"
   ]
  },
  {
   "cell_type": "code",
   "execution_count": 2,
   "metadata": {},
   "outputs": [
    {
     "data": {
      "image/png": "[encoded data removed]",
      "text/plain": [
       "<Figure size 640x480 with 1 Axes>"
      ]
     },
     "metadata": {},
     "output_type": "display_data"
    }
   ],
   "source": [
    "# data visualization\n",
    "renewal_prop =  train_data['Maintenance'].value_counts()\n",
    "plt.pie(renewal_prop, explode=(0,0.1), labels=[\"Yes\", \"No\"],\n",
    "        colors=[\"lightskyblue\", \"lightcoral\"], radius=1, autopct='%1.1f%%',\n",
    "        shadow=True)\n",
    "plt.show()"
   ]
  },
  {
   "cell_type": "code",
   "execution_count": 3,
   "metadata": {},
   "outputs": [
    {
     "ename": "KeyError",
     "evalue": "\"None of [Int64Index([0, 1, 2, 3, 4], dtype='int64')] are in the [columns]\"",
     "output_type": "error",
     "traceback": [
      "\u001b[0;31m---------------------------------------------------------------------------\u001b[0m",
      "\u001b[0;31mKeyError\u001b[0m                                  Traceback (most recent call last)",
      "Cell \u001b[0;32mIn[3], line 2\u001b[0m\n\u001b[1;32m      1\u001b[0m \u001b[38;5;66;03m# split the data into input and target variables\u001b[39;00m\n\u001b[0;32m----> 2\u001b[0m train_input \u001b[38;5;241m=\u001b[39m \u001b[43mtrain_data\u001b[49m\u001b[43m[\u001b[49m\u001b[43m[\u001b[49m\u001b[43mi\u001b[49m\u001b[43m \u001b[49m\u001b[38;5;28;43;01mfor\u001b[39;49;00m\u001b[43m \u001b[49m\u001b[43mi\u001b[49m\u001b[43m \u001b[49m\u001b[38;5;129;43;01min\u001b[39;49;00m\u001b[43m \u001b[49m\u001b[38;5;28;43mrange\u001b[39;49m\u001b[43m(\u001b[49m\u001b[38;5;241;43m0\u001b[39;49m\u001b[43m,\u001b[49m\u001b[38;5;241;43m5\u001b[39;49m\u001b[43m)\u001b[49m\u001b[43m]\u001b[49m\u001b[43m]\u001b[49m\u001b[38;5;241m.\u001b[39mvalues  \u001b[38;5;66;03m# turn dataframe to list\u001b[39;00m\n\u001b[1;32m      3\u001b[0m le \u001b[38;5;241m=\u001b[39m preprocessing\u001b[38;5;241m.\u001b[39mLabelEncoder()  \u001b[38;5;66;03m# call LabelEncoder from the class: preprocessing\u001b[39;00m\n\u001b[1;32m      4\u001b[0m train_target \u001b[38;5;241m=\u001b[39m le\u001b[38;5;241m.\u001b[39mfit_transform(train_data[[\u001b[38;5;241m5\u001b[39m]]\u001b[38;5;241m.\u001b[39mvalues)  \u001b[38;5;66;03m# assign and transform to label number to each class\u001b[39;00m\n",
      "File \u001b[0;32m/opt/anaconda3/envs/cs540aima/lib/python3.9/site-packages/pandas/core/frame.py:3811\u001b[0m, in \u001b[0;36mDataFrame.__getitem__\u001b[0;34m(self, key)\u001b[0m\n\u001b[1;32m   3809\u001b[0m     \u001b[38;5;28;01mif\u001b[39;00m is_iterator(key):\n\u001b[1;32m   3810\u001b[0m         key \u001b[38;5;241m=\u001b[39m \u001b[38;5;28mlist\u001b[39m(key)\n\u001b[0;32m-> 3811\u001b[0m     indexer \u001b[38;5;241m=\u001b[39m \u001b[38;5;28;43mself\u001b[39;49m\u001b[38;5;241;43m.\u001b[39;49m\u001b[43mcolumns\u001b[49m\u001b[38;5;241;43m.\u001b[39;49m\u001b[43m_get_indexer_strict\u001b[49m\u001b[43m(\u001b[49m\u001b[43mkey\u001b[49m\u001b[43m,\u001b[49m\u001b[43m \u001b[49m\u001b[38;5;124;43m\"\u001b[39;49m\u001b[38;5;124;43mcolumns\u001b[39;49m\u001b[38;5;124;43m\"\u001b[39;49m\u001b[43m)\u001b[49m[\u001b[38;5;241m1\u001b[39m]\n\u001b[1;32m   3813\u001b[0m \u001b[38;5;66;03m# take() does not accept boolean indexers\u001b[39;00m\n\u001b[1;32m   3814\u001b[0m \u001b[38;5;28;01mif\u001b[39;00m \u001b[38;5;28mgetattr\u001b[39m(indexer, \u001b[38;5;124m\"\u001b[39m\u001b[38;5;124mdtype\u001b[39m\u001b[38;5;124m\"\u001b[39m, \u001b[38;5;28;01mNone\u001b[39;00m) \u001b[38;5;241m==\u001b[39m \u001b[38;5;28mbool\u001b[39m:\n",
      "File \u001b[0;32m/opt/anaconda3/envs/cs540aima/lib/python3.9/site-packages/pandas/core/indexes/base.py:6113\u001b[0m, in \u001b[0;36mIndex._get_indexer_strict\u001b[0;34m(self, key, axis_name)\u001b[0m\n\u001b[1;32m   6110\u001b[0m \u001b[38;5;28;01melse\u001b[39;00m:\n\u001b[1;32m   6111\u001b[0m     keyarr, indexer, new_indexer \u001b[38;5;241m=\u001b[39m \u001b[38;5;28mself\u001b[39m\u001b[38;5;241m.\u001b[39m_reindex_non_unique(keyarr)\n\u001b[0;32m-> 6113\u001b[0m \u001b[38;5;28;43mself\u001b[39;49m\u001b[38;5;241;43m.\u001b[39;49m\u001b[43m_raise_if_missing\u001b[49m\u001b[43m(\u001b[49m\u001b[43mkeyarr\u001b[49m\u001b[43m,\u001b[49m\u001b[43m \u001b[49m\u001b[43mindexer\u001b[49m\u001b[43m,\u001b[49m\u001b[43m \u001b[49m\u001b[43maxis_name\u001b[49m\u001b[43m)\u001b[49m\n\u001b[1;32m   6115\u001b[0m keyarr \u001b[38;5;241m=\u001b[39m \u001b[38;5;28mself\u001b[39m\u001b[38;5;241m.\u001b[39mtake(indexer)\n\u001b[1;32m   6116\u001b[0m \u001b[38;5;28;01mif\u001b[39;00m \u001b[38;5;28misinstance\u001b[39m(key, Index):\n\u001b[1;32m   6117\u001b[0m     \u001b[38;5;66;03m# GH 42790 - Preserve name from an Index\u001b[39;00m\n",
      "File \u001b[0;32m/opt/anaconda3/envs/cs540aima/lib/python3.9/site-packages/pandas/core/indexes/base.py:6173\u001b[0m, in \u001b[0;36mIndex._raise_if_missing\u001b[0;34m(self, key, indexer, axis_name)\u001b[0m\n\u001b[1;32m   6171\u001b[0m     \u001b[38;5;28;01mif\u001b[39;00m use_interval_msg:\n\u001b[1;32m   6172\u001b[0m         key \u001b[38;5;241m=\u001b[39m \u001b[38;5;28mlist\u001b[39m(key)\n\u001b[0;32m-> 6173\u001b[0m     \u001b[38;5;28;01mraise\u001b[39;00m \u001b[38;5;167;01mKeyError\u001b[39;00m(\u001b[38;5;124mf\u001b[39m\u001b[38;5;124m\"\u001b[39m\u001b[38;5;124mNone of [\u001b[39m\u001b[38;5;132;01m{\u001b[39;00mkey\u001b[38;5;132;01m}\u001b[39;00m\u001b[38;5;124m] are in the [\u001b[39m\u001b[38;5;132;01m{\u001b[39;00maxis_name\u001b[38;5;132;01m}\u001b[39;00m\u001b[38;5;124m]\u001b[39m\u001b[38;5;124m\"\u001b[39m)\n\u001b[1;32m   6175\u001b[0m not_found \u001b[38;5;241m=\u001b[39m \u001b[38;5;28mlist\u001b[39m(ensure_index(key)[missing_mask\u001b[38;5;241m.\u001b[39mnonzero()[\u001b[38;5;241m0\u001b[39m]]\u001b[38;5;241m.\u001b[39munique())\n\u001b[1;32m   6176\u001b[0m \u001b[38;5;28;01mraise\u001b[39;00m \u001b[38;5;167;01mKeyError\u001b[39;00m(\u001b[38;5;124mf\u001b[39m\u001b[38;5;124m\"\u001b[39m\u001b[38;5;132;01m{\u001b[39;00mnot_found\u001b[38;5;132;01m}\u001b[39;00m\u001b[38;5;124m not in index\u001b[39m\u001b[38;5;124m\"\u001b[39m)\n",
      "\u001b[0;31mKeyError\u001b[0m: \"None of [Int64Index([0, 1, 2, 3, 4], dtype='int64')] are in the [columns]\""
     ]
    }
   ],
   "source": [
    "# split the data into input and target variables\n",
    "train_input = train_data[[i for i in range(0,5)]].values  # turn dataframe to list\n",
    "le = preprocessing.LabelEncoder()  # call LabelEncoder from the class: preprocessing\n",
    "train_target = le.fit_transform(train_data[[5]].values)  # assign and transform to label number to each class\n",
    "\n",
    "\n",
    "classifier = linear_model.LogisticRegression(C=1)  # Default: fit_intercept=True, C=1.0\n",
    "classifier.fit(train_input, train_target)\n",
    "\n",
    "accuracy = classifier.score(train_input, train_target)  # score is accuracy rate\n",
    "print (\"Intercept: \", classifier.intercept_)\n",
    "print (\"Coefficient: \", classifier.coef_)\n",
    "print (\"Classification Rate: {0:.0f}%\".format(accuracy*100))"
   ]
  },
  {
   "cell_type": "code",
   "execution_count": null,
   "metadata": {},
   "outputs": [],
   "source": [
    "# plot scatter for x3 and x4\n",
    "i=4  # set the column index to i\n",
    "weight = classifier.coef_[0]\n",
    "yes_data = train_data[train_data['renewal']=='Y']\n",
    "no_data = train_data[train_data['renewal']=='N']\n",
    "plt.figure()\n",
    "plt.scatter(yes_data[[i]], yes_data[[i+1]], marker=\"x\", color=\"blue\", label=\"Yes\")\n",
    "plt.scatter(no_data[[i]], no_data[[i+1]], marker=\"x\", color=\"red\", label=\"No\")\n",
    "x = np.arange(4500,45000,4500)\n",
    "y = (-classifier.intercept_ - weight[i-2]*x)/weight[i-1]\n",
    "plt.xlabel(train_data.columns[i])   # label of x-axis\n",
    "plt.ylabel(train_data.columns[i+1])   # label of y-axis\n",
    "plt.plot(x,y, color=\"black\")\n",
    "plt.legend()\n",
    "plt.show()\n",
    "\n",
    "# Confusion Matrix\n",
    "from sklearn.metrics import confusion_matrix\n",
    "predict_train_target = classifier.predict(train_input)\n",
    "cm = confusion_matrix(train_target, predict_train_target, labels=[1,0])  #rmb to set the labels!\n",
    "\n",
    "\n",
    "# Visualize the matrix\n",
    "plt.figure()\n",
    "plt.imshow(cm, interpolation='nearest', cmap=plt.cm.Blues)\n",
    "plt.title(\"Confusion Matrix\")\n",
    "plt.colorbar()\n",
    "tick_marks = np.arange(2)\n",
    "plt.xticks(tick_marks, [\"Yes\",\"No\"])\n",
    "plt.yticks(tick_marks, [\"Yes\",\"No\"])\n",
    "plt.ylabel('True')\n",
    "plt.xlabel('Predicted')\n",
    "plt.show()\n",
    "\n",
    "# ROC\n",
    "from sklearn.metrics import roc_curve\n",
    "fpr, tpr, thresholds = roc_curve(train_target, classifier.decision_function(train_input))\n",
    "\n",
    "# ROC-curve\n",
    "plt.figure()\n",
    "plt.plot(fpr, tpr, label='ROC curve')  # plot the false positive and true positive rate\n",
    "plt.plot([0, 1], [0, 1], 'k--')  # plot the threshold\n",
    "plt.xlim([0.0, 1.0])  # limit x axis\n",
    "plt.ylim([0.0, 1.05])  # limit y axis\n",
    "plt.xlabel('1 - Specificity (False Positive Rate)')\n",
    "plt.ylabel('Sensitivity (True Positive Rate)')\n",
    "plt.title('Receiver operating characteristic')\n",
    "plt.legend(loc=\"lower right\")\n",
    "# plt.show()\n",
    "\n",
    "# predict the testing data\n",
    "test_data = pd.read_csv(\"Maintenance.csv\")  # read test data\n",
    "test_input = np.array(test_data[[i for i in range(2,6)]])\n",
    "test_target = classifier.predict(test_input)\n",
    "\n",
    "for i in range(test_data.shape[0]):\n",
    "    predict_class = le.inverse_transform(test_target[i])  # use labelEncoder to transform back to class name\n",
    "    print (test_data.name[i], \": \", predict_class)  # show the result\n"
   ]
  },
  {
   "cell_type": "code",
   "execution_count": null,
   "metadata": {},
   "outputs": [],
   "source": []
  }
 ],
 "metadata": {
  "kernelspec": {
   "display_name": "Python 3 (ipykernel)",
   "language": "python",
   "name": "python3"
  },
  "language_info": {
   "codemirror_mode": {
    "name": "ipython",
    "version": 3
   },
   "file_extension": ".py",
   "mimetype": "text/x-python",
   "name": "python",
   "nbconvert_exporter": "python",
   "pygments_lexer": "ipython3",
   "version": "3.9.15"
  }
 },
 "nbformat": 4,
 "nbformat_minor": 2
}
